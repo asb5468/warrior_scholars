{
 "cells": [
  {
   "cell_type": "markdown",
   "metadata": {
    "Collapsed": "false",
    "colab_type": "text",
    "id": "D_QUDECR0psB"
   },
   "source": [
    "## An introduction to matched-filtering\n",
    "This tutorial is based on [Tutorial 2.1](https://github.com/gw-odw/odw-2020/blob/master/Day_2/Tuto_2.1_Matched_filtering_introduction.ipynb) from the GW Open Data Workshop \\#3\n",
    "\n",
    "We will be using the [PyCBC](http://github.com/ligo-cbc/pycbc) library, which is used to study gravitational-wave data, find astrophysical sources due to compact binary mergers, and study their parameters. These are some of the same tools that the LIGO and Virgo collaborations use to find gravitational waves in LIGO/Virgo data \n",
    "\n",
    "In this tutorial we will walk through how find a specific signal in LIGO data. We present matched filtering as a cross-correlation, in both the time domain and the frequency domain. In this tutorial we will perform a matched-filter search in simulated, Gaussian LIGO data, while in the next tutorial we will apply the same method on real LIGO data to find the first gravitational-wave event!"
   ]
  },
  {
   "cell_type": "markdown",
   "metadata": {
    "Collapsed": "false",
    "colab_type": "text",
    "id": "VfuWmS4z0psH"
   },
   "source": [
    "## Installation (un-comment and execute only if running on a cloud platform!)"
   ]
  },
  {
   "cell_type": "code",
   "execution_count": null,
   "metadata": {
    "Collapsed": "false",
    "colab": {
     "base_uri": "https://localhost:8080/",
     "height": 1000
    },
    "colab_type": "code",
    "id": "-oaVmOkc0psJ",
    "outputId": "d6785c31-f774-45be-8b42-51c4e777b80d"
   },
   "outputs": [],
   "source": [
    "# -- Use the following for Google Colab\n",
    "! pip install -q 'lalsuite==6.66' 'PyCBC==1.15.3' "
   ]
  },
  {
   "cell_type": "markdown",
   "metadata": {
    "Collapsed": "false",
    "colab_type": "text",
    "id": "bkT6oEIq0psO"
   },
   "source": [
    "**Important:** With Google Colab, you may need to restart the runtime after running the cell above."
   ]
  },
  {
   "cell_type": "markdown",
   "metadata": {},
   "source": [
    "## Initialization"
   ]
  },
  {
   "cell_type": "code",
   "execution_count": 1,
   "metadata": {},
   "outputs": [],
   "source": [
    "%matplotlib inline\n",
    "import numpy as np\n",
    "import pylab"
   ]
  },
  {
   "cell_type": "markdown",
   "metadata": {},
   "source": [
    "### The cross-correlation\n",
    "Before we talk about matched fitering in the context of gravitational-waves, we will introduce another signal processing concept: the cross-correlation. For two disrete data sets $h_{t}$ and $g_t$, it is defined as:\n",
    "$$ CC_j = \\sum_{t} g_{t}^{*}h_{t+j}.$$\n",
    "The * symbol denotes complex conjugation, where the imaginary part of the signal switches sign:\n",
    "$$x = 3+5i, \\quad x^* = 3-5i.$$\n",
    "The cross-correlation basically tells you how similar two data sets are as a function of the offset between them. So for example, if $g_t$ is a short signal that is contained at some time $j$ within $h_t$, the cross-correlation will be maximized at $j$. Let's look at a quick example of cross-correlation before applying it to gravitational-wave data:"
   ]
  },
  {
   "cell_type": "code",
   "execution_count": 2,
   "metadata": {},
   "outputs": [
    {
     "name": "stdout",
     "output_type": "stream",
     "text": [
      "3.5\n"
     ]
    }
   ],
   "source": [
    "g = [1,2,3]\n",
    "h = [0, 1, 0.5]\n",
    "cc = np.sum(np.multiply(h,g))\n",
    "print(cc)"
   ]
  },
  {
   "cell_type": "markdown",
   "metadata": {},
   "source": [
    "In this example, the two data sets $g_t$ and $h_t$ have the same number of elements, so we cannot shift them relative to each other. This means our cross-correlation is only valid for one point $j=0$ in the equation above. What if we look at arrays of different lengths?"
   ]
  },
  {
   "cell_type": "code",
   "execution_count": 3,
   "metadata": {},
   "outputs": [
    {
     "name": "stdout",
     "output_type": "stream",
     "text": [
      "[2, 2.0, 2.5, 5, 2.92, 14.46]\n",
      "[ 2.    2.    2.5   5.    2.92 14.46]\n"
     ]
    }
   ],
   "source": [
    "g = [1,2]\n",
    "h = [0, 1, 0.5, 1, 2, 0.46, 7]\n",
    "n_shift = len(h)-len(g)\n",
    "cc = []\n",
    "for i in range(n_shift+1):\n",
    "    cc.append(np.sum(np.multiply(h[i:i+2],g)))\n",
    "print(cc)\n",
    "cc2 = np.correlate(h, g)\n",
    "print(cc2)"
   ]
  },
  {
   "cell_type": "markdown",
   "metadata": {},
   "source": [
    "And let's look at the example above but make the data sets $h_t$ and $g_t$ complex:"
   ]
  },
  {
   "cell_type": "code",
   "execution_count": 4,
   "metadata": {},
   "outputs": [
    {
     "name": "stdout",
     "output_type": "stream",
     "text": [
      "[(3+1j), (6.7-5.1j), (1-3.8j), (8-1j), (18.59-6.12j), (16.98-10.290000000000001j)]\n",
      "[ 3.   +1.j    6.7  -5.1j   1.   -3.8j   8.   -1.j   18.59 -6.12j\n",
      " 16.98-10.29j]\n"
     ]
    }
   ],
   "source": [
    "g = [1+5j,2+1j]\n",
    "h = [0, 1+1j, 0.5-0.3j, 1, 2+3j, 0.46+0.67j, 7-0.83j]\n",
    "n_shift = len(h)-len(g)\n",
    "cc = []\n",
    "for i in range(n_shift+1):\n",
    "    cc.append(np.sum(np.multiply(h[i:i+2],np.conjugate(g))))\n",
    "print(cc)\n",
    "cc2 = np.correlate(h, g)\n",
    "print(cc2)"
   ]
  },
  {
   "cell_type": "markdown",
   "metadata": {
    "Collapsed": "false",
    "colab_type": "text",
    "id": "n1n6Ut_v0psP"
   },
   "source": [
    "### Matched-filtering: Finding well-modelled signals in Gaussian noise\n",
    "\n",
    "Matched filtering can be shown to be the optimal method for \"detecting\" signals--when the signal waveform is known--in Gaussian noise. We'll explore those assumptions a little later, but for now let's demonstrate how this works.\n",
    "\n",
    "Let's assume you have a stretch of white noise to start. Remember that this means that the noise has not been \"colored\" by the PSD, and is simply Gaussian with $\\mu=0$ and $\\sigma=1$."
   ]
  },
  {
   "cell_type": "code",
   "execution_count": 2,
   "metadata": {
    "Collapsed": "false",
    "colab": {},
    "colab_type": "code",
    "id": "YUS9v3eM0psQ"
   },
   "outputs": [],
   "source": [
    "# specify the sample rate.\n",
    "# LIGO raw data is sampled at 16384 Hz (=2^14 samples/second).\n",
    "# It captures signal frequency content up to f_Nyquist = 8192 Hz.\n",
    "# Here, we will make the computation faster by sampling at a lower rate.\n",
    "sample_rate = 1024 # samples per second\n",
    "data_length = 1024 # seconds\n",
    "dt = 1./sample_rate # time spacing\n",
    "\n",
    "# Generate a long stretch of white noise: the data series and the time series.\n",
    "data = np.random.normal(size=[sample_rate * data_length])\n",
    "times = np.arange(0, data_length, dt)"
   ]
  },
  {
   "cell_type": "markdown",
   "metadata": {
    "Collapsed": "false",
    "colab_type": "text",
    "id": "Lb1qfZuj0psU"
   },
   "source": [
    "And then let's add a gravitational wave signal to some random part of this data. This will be a binary black hole signal with each component being $10~M_{\\odot}$."
   ]
  },
  {
   "cell_type": "code",
   "execution_count": 3,
   "metadata": {
    "Collapsed": "false",
    "colab": {
     "base_uri": "https://localhost:8080/",
     "height": 869
    },
    "colab_type": "code",
    "id": "8iMaIs1d0psW",
    "outputId": "efce144e-af75-4afd-e4e6-1d41957470cf"
   },
   "outputs": [],
   "source": [
    "from pycbc.waveform import get_td_waveform\n",
    "\n",
    "# the \"approximant\" (jargon for parameterized waveform family).\n",
    "# IMRPhenomD is defined in the frequency domain, but we'll get it in the time domain (td).\n",
    "# It runs fast, but it doesn't include effects such as non-aligned component spin, or higher order modes.\n",
    "apx = 'IMRPhenomD'\n",
    "\n",
    "# You can specify many parameters, \n",
    "# https://pycbc.org/pycbc/latest/html/pycbc.waveform.html?highlight=get_td_waveform#pycbc.waveform.waveform.get_td_waveform\n",
    "# but here, we'll use defaults for everything except the masses.\n",
    "# It returns both hplus and hcross, but we'll only use hplus for now.\n",
    "hp1, _ = get_td_waveform(approximant=apx,\n",
    "                         mass1=10,\n",
    "                         mass2=10,\n",
    "                         delta_t=1.0/sample_rate,\n",
    "                         f_lower=25)"
   ]
  },
  {
   "cell_type": "markdown",
   "metadata": {},
   "source": [
    "The amplitude of gravitational-wave signals is normally of order 1E-20 as we saw in the previous tutorial. To demonstrate our method on white noise with amplitude O(1) we normalize our signal so the cross-correlation of the signal with itself will give a value of 1. In this case we can interpret the cross-correlation of the signal with white noise as a signal-to-noise ratio. "
   ]
  },
  {
   "cell_type": "code",
   "execution_count": 4,
   "metadata": {},
   "outputs": [
    {
     "data": {
      "text/plain": [
       "Text(0, 0.5, 'Normalized amplitude')"
      ]
     },
     "execution_count": 4,
     "metadata": {},
     "output_type": "execute_result"
    },
    {
     "data": {
      "image/png": "[encoded data removed]",
      "text/plain": [
       "<Figure size 432x288 with 1 Axes>"
      ]
     },
     "metadata": {
      "needs_background": "light"
     },
     "output_type": "display_data"
    }
   ],
   "source": [
    "hp1 = hp1 / max(np.correlate(hp1,hp1, mode='full'))**0.5\n",
    "\n",
    "# note that in this figure, the waveform amplitude is of order 1.\n",
    "# The duration (for frequency above f_lower=25 Hz) is only 3 or 4 seconds long.\n",
    "# The waveform is \"tapered\": slowly ramped up from zero to full strength, over the first second or so.\n",
    "# It is zero-padded at earlier times.\n",
    "pylab.figure()\n",
    "pylab.title(\"The waveform hp1\")\n",
    "pylab.plot(hp1.sample_times, hp1)\n",
    "pylab.xlabel('Time (s)')\n",
    "pylab.ylabel('Normalized amplitude')"
   ]
  },
  {
   "cell_type": "markdown",
   "metadata": {},
   "source": [
    "Now we will \"inject\" the waveform at a random point in the data given by `waveform_start`. The waveform amplitude is small compared to the data amplitude, so when you plot the data, you can't see the wavefrom by eye. This is why searching for gravitational-wave signals in data is so hard!"
   ]
  },
  {
   "cell_type": "code",
   "execution_count": 5,
   "metadata": {},
   "outputs": [
    {
     "data": {
      "text/plain": [
       "Text(0, 0.5, 'Normalized amplitude')"
      ]
     },
     "execution_count": 5,
     "metadata": {},
     "output_type": "execute_result"
    },
    {
     "data": {
      "image/png": "[encoded data removed]",
      "text/plain": [
       "<Figure size 432x288 with 1 Axes>"
      ]
     },
     "metadata": {
      "needs_background": "light"
     },
     "output_type": "display_data"
    },
    {
     "data": {
      "image/png": "[encoded data removed]",
      "text/plain": [
       "<Figure size 432x288 with 1 Axes>"
      ]
     },
     "metadata": {
      "needs_background": "light"
     },
     "output_type": "display_data"
    }
   ],
   "source": [
    "waveform_start = np.random.randint(0, len(data) - len(hp1))\n",
    "data[waveform_start:waveform_start+len(hp1)] += 10 * hp1.numpy()\n",
    "\n",
    "pylab.figure()\n",
    "pylab.title(\"Looks like random noise, right?\")\n",
    "pylab.plot(hp1.sample_times, data[waveform_start:waveform_start+len(hp1)])\n",
    "pylab.xlabel('Time (s)')\n",
    "pylab.ylabel('Normalized amplitude')\n",
    "\n",
    "pylab.figure()\n",
    "pylab.title(\"Signal in the data\")\n",
    "pylab.plot(hp1.sample_times, data[waveform_start:waveform_start+len(hp1)])\n",
    "pylab.plot(hp1.sample_times, 10 * hp1)\n",
    "pylab.xlabel('Time (s)')\n",
    "pylab.ylabel('Normalized amplitude')"
   ]
  },
  {
   "cell_type": "markdown",
   "metadata": {
    "Collapsed": "false",
    "colab_type": "text",
    "id": "mmAJqGqH0psZ"
   },
   "source": [
    "To search for this signal we can cross-correlate the signal with the entire dataset -> Not in any way optimized at this point, just showing the method.\n",
    "\n",
    "We will do the cross-correlation in the time domain, once for each time step. The signal is shorter than our data segment, so the number of elements in the cross-correlation array is the difference between the length of the signal and data arrays, just like before. In this case, the signal is $g_t$ and the data is $h_t$. This will run slowly."
   ]
  },
  {
   "cell_type": "code",
   "execution_count": 6,
   "metadata": {
    "Collapsed": "false",
    "colab": {
     "base_uri": "https://localhost:8080/",
     "height": 297
    },
    "colab_type": "code",
    "id": "fi3D6sW70psa",
    "outputId": "34d82dda-e0ed-406f-ec39-58dc4b3d991a"
   },
   "outputs": [],
   "source": [
    "# first create an empty cc array\n",
    "cross_correlation = []\n",
    "hp1_numpy = hp1.numpy()\n",
    "n_shift = len(data) - len(hp1_numpy)\n",
    "for i in range(n_shift):\n",
    "    cross_correlation.append(np.sum(hp1_numpy * data[i:i+len(hp1_numpy)]))"
   ]
  },
  {
   "cell_type": "markdown",
   "metadata": {},
   "source": [
    "Now let's plot the cross-correlation versus time. First, we need to calculate the time array. It should have `n_shift` elements, so how many seconds does that correspond to for our $\\Delta t$?"
   ]
  },
  {
   "cell_type": "code",
   "execution_count": 7,
   "metadata": {},
   "outputs": [
    {
     "data": {
      "text/plain": [
       "Text(0, 0.5, 'Cross-correlation')"
      ]
     },
     "execution_count": 7,
     "metadata": {},
     "output_type": "execute_result"
    },
    {
     "data": {
      "image/png": "[encoded data removed]",
      "text/plain": [
       "<Figure size 432x288 with 1 Axes>"
      ]
     },
     "metadata": {
      "needs_background": "light"
     },
     "output_type": "display_data"
    }
   ],
   "source": [
    "# plot the cross-correlated data vs time. Superimpose the location of the end of the signal;\n",
    "# this is where we should find a peak in the cross-correlation.\n",
    "times = np.arange(0, n_shift*dt, dt)\n",
    "pylab.figure()\n",
    "pylab.plot(times, cross_correlation)\n",
    "pylab.axvline(waveform_start*dt, color='r', ls=':')\n",
    "pylab.xlabel('Time (s)')\n",
    "pylab.ylabel('Cross-correlation')"
   ]
  },
  {
   "cell_type": "markdown",
   "metadata": {
    "Collapsed": "false",
    "colab_type": "text",
    "id": "cafBZG960psc"
   },
   "source": [
    "Here you can see that the largest spike from the cross-correlation comes at the time of the signal. In this way, the cross-correlation is like a **signal-to-noise ratio**, or SNR, which tells you how loud the signal is compared to the noisy data. We only really need one more ingredient to describe matched-filtering: \"Colored\" noise that matched the LIGO PSD. \n",
    "\n",
    "Let's repeat the process, but generate a stretch of data colored with the Advanced LIGO PSD. We'll use a PyCBC library to do this. The `psd` varible we define below is a `pycbc.psd` object. It has the same shape in the frequency domain as the advanced LIGO PSD that we looked at in the second tutorial, but it also has some other pycbc methods."
   ]
  },
  {
   "cell_type": "code",
   "execution_count": 8,
   "metadata": {
    "Collapsed": "false",
    "colab": {},
    "colab_type": "code",
    "id": "9Jcw-P_v0psd"
   },
   "outputs": [],
   "source": [
    "# http://pycbc.org/pycbc/latest/html/noise.html\n",
    "import pycbc.noise\n",
    "import pycbc.psd\n",
    "\n",
    "# The color of the noise matches a PSD which you provide:\n",
    "# Generate a PSD matching Advanced LIGO's zero-detuned--high-power noise curve \n",
    "flow = 10.0\n",
    "delta_f = 1.0 / 128\n",
    "flen = int(sample_rate / (2 * delta_f)) + 1\n",
    "psd = pycbc.psd.aLIGOZeroDetHighPower(flen, delta_f, flow)"
   ]
  },
  {
   "cell_type": "markdown",
   "metadata": {},
   "source": [
    "Instead of generating white noise and then coloring it ourselves like we did previously by multiplying it by the ASD, we will use a prebuilt `pycbc` function to generate Gaussian noise colored with the LIGO PSD. We can also use `pycbc` to calculate the PSD from the data using the averaging method we discussed previously."
   ]
  },
  {
   "cell_type": "code",
   "execution_count": 9,
   "metadata": {},
   "outputs": [
    {
     "data": {
      "image/png": "[encoded data removed]",
      "text/plain": [
       "<Figure size 432x288 with 1 Axes>"
      ]
     },
     "metadata": {
      "needs_background": "light"
     },
     "output_type": "display_data"
    }
   ],
   "source": [
    "# Generate colored noise\n",
    "ts = pycbc.noise.noise_from_psd(data_length*sample_rate, dt, psd, seed=127)\n",
    "\n",
    "# Estimate the amplitude spectral density (ASD = sqrt(PSD)) for the noisy data \n",
    "# using the \"welch\" method. We'll choose 4 seconds PSD samples that are overlapped 50%\n",
    "seg_len = int(4*sample_rate) # the length of each segment being averaged in number of samples\n",
    "seg_stride = int(seg_len / 2) # offset between segments in number of samples\n",
    "estimated_psd = pycbc.psd.welch(ts,seg_len=seg_len,seg_stride=seg_stride)\n",
    "\n",
    "# plot it:\n",
    "pylab.loglog(estimated_psd.sample_frequencies, estimated_psd, label='estimate')\n",
    "pylab.loglog(psd.sample_frequencies, psd, linewidth=3, label='known psd')\n",
    "pylab.xlim(xmin=flow, xmax=512)\n",
    "pylab.ylim(1e-47, 1e-45)\n",
    "pylab.legend()\n",
    "pylab.grid()\n",
    "pylab.show()\n",
    "\n",
    "# add the signal, this time, with a \"typical\" amplitude.\n",
    "ts[waveform_start:waveform_start+len(hp1)] += hp1.numpy() * 1E-20"
   ]
  },
  {
   "cell_type": "markdown",
   "metadata": {
    "Collapsed": "false",
    "colab_type": "text",
    "id": "rSgmyob_0psf"
   },
   "source": [
    "Then all we need to do is to \"whiten\" both the data, and the template waveform. This can be done, in the frequency domain, by dividing by the PSD. This *can* be done in the time domain as well, but it's more intuitive in the frequency domain"
   ]
  },
  {
   "cell_type": "code",
   "execution_count": 10,
   "metadata": {
    "Collapsed": "false",
    "colab": {},
    "colab_type": "code",
    "id": "w_v6gzUh0psg"
   },
   "outputs": [],
   "source": [
    "# Generate a PSD for whitening the data\n",
    "from pycbc.types import TimeSeries\n",
    "\n",
    "# The PSD, sampled properly for the noisy data\n",
    "flow = 10.0\n",
    "delta_f = 1.0 / data_length\n",
    "flen = int(sample_rate / (2 * delta_f)) + 1\n",
    "psd_td = pycbc.psd.aLIGOZeroDetHighPower(flen, delta_f, 0)\n",
    "\n",
    "# The PSD, sampled properly for the signal\n",
    "signal_len = float(len(hp1))*dt\n",
    "delta_f = 1.0 / signal_len\n",
    "flen = int(sample_rate / (2 * delta_f)) + 1\n",
    "psd_hp1 = pycbc.psd.aLIGOZeroDetHighPower(flen, delta_f, 0)\n",
    "\n",
    "# The 0th and Nth values are zero. Set them to a nearby value to avoid dividing by zero.\n",
    "psd_td[0] = psd_td[1]\n",
    "psd_td[len(psd_td) - 1] = psd_td[len(psd_td) - 2]\n",
    "# Same, for the PSD sampled for the signal\n",
    "psd_hp1[0] = psd_hp1[1]\n",
    "psd_hp1[len(psd_hp1) - 1] = psd_hp1[len(psd_hp1) - 2]"
   ]
  },
  {
   "cell_type": "markdown",
   "metadata": {},
   "source": [
    "The `to_frequencyseries()` method takes a Fourier transform of the time-domain data and signal. In the previous cell, we defined two PSDs, `psd_td` and `psd_hp1` which are the same except they have different frequency resolutions since they need to match the Fourier-transformed data and signal which have different lengths in the time domain. We then divide the two frequency series by their respective PSDs, and take the inverse Fourier transfrom to get the whitened data back in the time domain. We multiply the signal by $1\\times 10^{-21}$ so that the amplitude matches the expected amplitude spectral density for gravitational-wave data."
   ]
  },
  {
   "cell_type": "code",
   "execution_count": 11,
   "metadata": {},
   "outputs": [],
   "source": [
    "# convert both noisy data and the signal to frequency domain,\n",
    "# and divide each by ASD=PSD**0.5, then convert back to time domain.\n",
    "# This \"whitens\" the data and the signal template. \n",
    "# Multiplying the signal template by 1E-21 puts it into realistic units of strain.\n",
    "data_whitened = (ts.to_frequencyseries() / psd_td**0.5).to_timeseries()\n",
    "hp1_whitened = (hp1.to_frequencyseries() / psd_hp1**0.5).to_timeseries() * 1E-21"
   ]
  },
  {
   "cell_type": "markdown",
   "metadata": {},
   "source": [
    "We now recompute the cross-correlation using the whitened data and signal template, and plot it at the end."
   ]
  },
  {
   "cell_type": "code",
   "execution_count": 12,
   "metadata": {
    "Collapsed": "false",
    "colab": {
     "base_uri": "https://localhost:8080/",
     "height": 297
    },
    "colab_type": "code",
    "id": "d_HLbCCN0psi",
    "outputId": "a5b15941-1ea8-4726-fe80-f08462a8a627"
   },
   "outputs": [
    {
     "data": {
      "text/plain": [
       "Text(0, 0.5, 'Cross-correlation')"
      ]
     },
     "execution_count": 12,
     "metadata": {},
     "output_type": "execute_result"
    },
    {
     "data": {
      "image/png": "[encoded data removed]",
      "text/plain": [
       "<Figure size 432x288 with 1 Axes>"
      ]
     },
     "metadata": {
      "needs_background": "light"
     },
     "output_type": "display_data"
    }
   ],
   "source": [
    "# Now let's re-do the correlation, in the time domain, but with whitened data and template.\n",
    "cross_correlation = []\n",
    "hp1n = hp1_whitened.numpy()\n",
    "datan = data_whitened.numpy()\n",
    "for i in range(len(datan) - len(hp1n)):\n",
    "    cross_correlation.append(np.sum(hp1n * datan[i:i+len(hp1n)]))\n",
    "\n",
    "# plot the cross-correlation in the time domain. Superimpose the location of the end of the signal.\n",
    "# Note how much bigger the cross-correlation peak is, relative to the noise level,\n",
    "# compared with the unwhitened version of the same quantity. SNR is much higher!\n",
    "pylab.figure()\n",
    "n_shift = len(datan) - len(hp1n)\n",
    "times = np.arange(0, n_shift*dt, dt)\n",
    "pylab.plot(times, cross_correlation)\n",
    "pylab.axvline(waveform_start*dt, color='r', ls=':')\n",
    "pylab.xlabel('Time (s)')\n",
    "pylab.ylabel('Cross-correlation')"
   ]
  },
  {
   "cell_type": "markdown",
   "metadata": {},
   "source": [
    "# Challenge!\n",
    "\n",
    "* What is the mean and standard deviation of the whitened data timeseries? (We have not been careful in normalizing the whitened data properly). Plot it in a histogram. Is it a Gaussian? What if you restrict the range of the histogram to $\\pm 5\\sigma$ (by passing the `range=[-5*std, 5*std]` argument to the call to `pylab.hist`). Do the data look more Gaussian? You will have to use the definition of the Gaussian distribution from the second tutorial. \n",
    "* Histogram the above cross-correlation time series. Ignoring the outliers associated with the signal by restricting the range as you did above, is it a Gaussian? What are the mean and standard deviation?\n",
    "* Find the location of the peak in time, and the value of the SNR of the signal (which is the absolute value of the peak value, divided by the standard deviation of the cross-correlation time series). You can check that you've got the right time by comparing with the plot of the cross-correlation above.\n",
    "* Bonus Challenge: Repeat this process, but instead of using a waveform with mass1=mass2=$10~M_{\\odot}$, try 15, 20, or 25. Plot the SNR vs mass. Careful! Using lower masses (eg, mass1=mass2=$1.4~M_{\\odot}$) will not work here. Why?"
   ]
  }
 ],
 "metadata": {
  "colab": {
   "name": "Tuto_2.1_Matched_filtering_introduction.ipynb",
   "provenance": []
  },
  "kernelspec": {
   "display_name": "igwn-py37",
   "language": "python",
   "name": "igwn-py37"
  },
  "language_info": {
   "codemirror_mode": {
    "name": "ipython",
    "version": 3
   },
   "file_extension": ".py",
   "mimetype": "text/x-python",
   "name": "python",
   "nbconvert_exporter": "python",
   "pygments_lexer": "ipython3",
   "version": "3.7.6"
  }
 },
 "nbformat": 4,
 "nbformat_minor": 4
}
