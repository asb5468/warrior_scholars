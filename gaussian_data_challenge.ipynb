{
 "cells": [
  {
   "cell_type": "markdown",
   "metadata": {},
   "source": [
    "## Challenge: signal in colored, Gaussian noise.\n",
    "\n",
    "Use the data file \"challenge2.gwf\", with channel name \"H1:CHALLENGE2\"\n",
    "The data contain a BBH signal with m1=m2=30 solar masses.\n",
    "\n",
    "1. What are the duration and sampling rate of the data? Make a plot of the h(t) timeseries.\n",
    "\n",
    "2. Calculate a PSD of the data, and plot this on a log-log scale. Use axes ranging from 20 Hz up to the Nyquist frequency. What is the Nyquist frequency?\n",
    "\n",
    "3. Generate a time-domain template waveform using the approximant \"SEOBNRv4_opt\" with the same parameters as above. Plot this waveform.\n",
    "\n",
    "4. Use the template waveform and PSD to calculate the SNR time series. Plot the SNR time-series.\n",
    "\n",
    "5. What is the time of the merger, and what is the matched filter SNR of the signal?"
   ]
  },
  {
   "cell_type": "code",
   "execution_count": 5,
   "metadata": {},
   "outputs": [
    {
     "name": "stdout",
     "output_type": "stream",
     "text": [
      "Getting : https://www.gw-openscience.org/s/workshop3/challenge/challenge2.gwf\n"
     ]
    }
   ],
   "source": [
    "# Download the challenge set files\n",
    "from pycbc.frame import read_frame\n",
    "import urllib\n",
    "\n",
    "fname = 'challenge2.gwf'\n",
    "url = \"https://www.gw-openscience.org/s/workshop3/challenge/{}\".format(fname)\n",
    "urllib.request.urlretrieve(url, fname)\n",
    "print('Getting : {}'.format(url))\n",
    "\n",
    "channel_name = \"H1:CHALLENGE2\"\n",
    "ts = read_frame(fname, channel_name)"
   ]
  },
  {
   "cell_type": "code",
   "execution_count": null,
   "metadata": {},
   "outputs": [],
   "source": []
  }
 ],
 "metadata": {
  "kernelspec": {
   "display_name": "igwn-py38",
   "language": "python",
   "name": "igwn-py38"
  },
  "language_info": {
   "codemirror_mode": {
    "name": "ipython",
    "version": 3
   },
   "file_extension": ".py",
   "mimetype": "text/x-python",
   "name": "python",
   "nbconvert_exporter": "python",
   "pygments_lexer": "ipython3",
   "version": "3.8.6"
  }
 },
 "nbformat": 4,
 "nbformat_minor": 4
}
